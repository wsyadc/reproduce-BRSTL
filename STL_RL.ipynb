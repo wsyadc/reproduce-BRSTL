{
  "cells": [
    {
      "cell_type": "markdown",
      "metadata": {
        "id": "view-in-github",
        "colab_type": "text"
      },
      "source": [
        "<a href=\"https://colab.research.google.com/github/wsyadc/reproduce-BRSTL/blob/main/STL_RL.ipynb\" target=\"_parent\"><img src=\"https://colab.research.google.com/assets/colab-badge.svg\" alt=\"Open In Colab\"/></a>"
      ]
    },
    {
      "cell_type": "code",
      "source": [
        "from google.colab import drive\n",
        "drive.mount('/content/drive')"
      ],
      "metadata": {
        "colab": {
          "base_uri": "https://localhost:8080/"
        },
        "id": "iDd6n2tnyURS",
        "outputId": "7f1bb9aa-20b2-4ab3-f5d2-f433dccaf815"
      },
      "id": "iDd6n2tnyURS",
      "execution_count": 1,
      "outputs": [
        {
          "output_type": "stream",
          "name": "stdout",
          "text": [
            "Mounted at /content/drive\n"
          ]
        }
      ]
    },
    {
      "cell_type": "code",
      "source": [
        "!pip install qpth"
      ],
      "metadata": {
        "colab": {
          "base_uri": "https://localhost:8080/"
        },
        "id": "BS47DfT1GlLf",
        "outputId": "65d41263-2c8d-4ab5-cd77-aa43fe282fcb"
      },
      "id": "BS47DfT1GlLf",
      "execution_count": 2,
      "outputs": [
        {
          "output_type": "stream",
          "name": "stdout",
          "text": [
            "Collecting qpth\n",
            "  Downloading qpth-0.0.16.tar.gz (16 kB)\n",
            "  Preparing metadata (setup.py) ... \u001b[?25l\u001b[?25hdone\n",
            "Requirement already satisfied: numpy<2,>=1 in /usr/local/lib/python3.10/dist-packages (from qpth) (1.23.5)\n",
            "Requirement already satisfied: cvxpy>=1.1.0 in /usr/local/lib/python3.10/dist-packages (from qpth) (1.3.2)\n",
            "Requirement already satisfied: osqp>=0.4.1 in /usr/local/lib/python3.10/dist-packages (from cvxpy>=1.1.0->qpth) (0.6.2.post8)\n",
            "Requirement already satisfied: ecos>=2 in /usr/local/lib/python3.10/dist-packages (from cvxpy>=1.1.0->qpth) (2.0.12)\n",
            "Requirement already satisfied: scs>=1.1.6 in /usr/local/lib/python3.10/dist-packages (from cvxpy>=1.1.0->qpth) (3.2.4)\n",
            "Requirement already satisfied: scipy>=1.1.0 in /usr/local/lib/python3.10/dist-packages (from cvxpy>=1.1.0->qpth) (1.11.3)\n",
            "Requirement already satisfied: setuptools>65.5.1 in /usr/local/lib/python3.10/dist-packages (from cvxpy>=1.1.0->qpth) (67.7.2)\n",
            "Requirement already satisfied: qdldl in /usr/local/lib/python3.10/dist-packages (from osqp>=0.4.1->cvxpy>=1.1.0->qpth) (0.1.7.post0)\n",
            "Building wheels for collected packages: qpth\n",
            "  Building wheel for qpth (setup.py) ... \u001b[?25l\u001b[?25hdone\n",
            "  Created wheel for qpth: filename=qpth-0.0.16-py3-none-any.whl size=19521 sha256=e41146749e46970ad639b56a509d90b29752a4f0d58468e5944ab6ebea1700ed\n",
            "  Stored in directory: /root/.cache/pip/wheels/9e/f2/44/9121d0b84e8b35b1de55a8744c6452201ed697a5f89dae4f1d\n",
            "Successfully built qpth\n",
            "Installing collected packages: qpth\n",
            "Successfully installed qpth-0.0.16\n"
          ]
        }
      ]
    },
    {
      "cell_type": "code",
      "execution_count": 3,
      "id": "c3c9ac72",
      "metadata": {
        "id": "c3c9ac72"
      },
      "outputs": [],
      "source": [
        "import torch.nn as nn\n",
        "import torch\n",
        "from torch.autograd import Variable\n",
        "import torch.nn.functional as F\n",
        "from torch.nn.parameter import Parameter\n",
        "import gym\n",
        "from gym import spaces\n",
        "import numpy as np\n",
        "from scipy.integrate import odeint\n",
        "from qpth.qp import QPFunction"
      ]
    },
    {
      "cell_type": "markdown",
      "id": "00c18b7b",
      "metadata": {
        "id": "00c18b7b"
      },
      "source": [
        "创建环境"
      ]
    },
    {
      "cell_type": "code",
      "execution_count": 4,
      "id": "0e44322b",
      "metadata": {
        "id": "0e44322b"
      },
      "outputs": [],
      "source": [
        "class D2_robot(gym.Env):\n",
        "    def __init__(self):\n",
        "        super(D2_robot, self).__init__()\n",
        "        # 我们有2个动作，每个动作的取值范围是不同的\n",
        "        self.action_space = spaces.Box(low=np.array([-100, -100]), high=np.array([100, 100]), dtype=np.float32)\n",
        "        # 我们的状态是一个4维向量，每个维度的取值范围是不同的\n",
        "        self.observation_space = spaces.Box(low=np.array([0, 0, 0, 0]), high=np.array([12, 10, 10,10]), dtype=np.float32)\n",
        "        self.dt = [0,0.1]\n",
        "        self.T = 5\n",
        "        self.count = 0\n",
        "\n",
        "    def reset(self):\n",
        "        self.state = np.zeros(self.observation_space.shape)\n",
        "        self.count = 0\n",
        "        return self.state\n",
        "    def robustness_reward(self):\n",
        "        pass\n",
        "\n",
        "    def dynamics(self,y,t):\n",
        "        px,py,vx,vy,ax,ay = y\n",
        "        dpxdt = vx\n",
        "        dpydt = vy\n",
        "        dvxdt = ax #u1\n",
        "        dvydt = ay  #u2\n",
        "        return [dpxdt,dpydt,dvxdt,dvydt, 0, 0]\n",
        "    def step(self, action):\n",
        "        ax,ay = action\n",
        "        y = list(self.state)\n",
        "        y.append(ax)\n",
        "        y.append(ay)\n",
        "        #update dynamics rt 是0.1s的状态\n",
        "        rt = np.float32(odeint(self.dynamics,y,self.dt))\n",
        "        px_new, py_new, vx_new, vy_new = rt[1][0], rt[1][1], rt[1][2], rt[1][3]\n",
        "        self.state = np.array([px_new,py_new,vx_new,vy_new])\n",
        "        reward = 1\n",
        "        if self.count<self.T:\n",
        "            self.count = self.count + 0.1\n",
        "            done = False\n",
        "        elif self.count ==self.T:\n",
        "            self.count = 0\n",
        "            done = True\n",
        "        reward = 1\n",
        "        return self.state, reward, done,{}"
      ]
    },
    {
      "cell_type": "code",
      "source": [],
      "metadata": {
        "id": "rPz5uQY1tBRf"
      },
      "id": "rPz5uQY1tBRf",
      "execution_count": null,
      "outputs": []
    },
    {
      "cell_type": "markdown",
      "id": "f3873d57",
      "metadata": {
        "id": "f3873d57"
      },
      "source": [
        "# 如何选择一个动作"
      ]
    },
    {
      "cell_type": "code",
      "source": [
        "# CUDA for PyTorch\n",
        "use_cuda = torch.cuda.is_available()\n",
        "device = torch.device(\"cuda\" if use_cuda else \"cpu\")\n",
        "print(\"Using {} device\".format(device))\n",
        "torch.backends.cudnn.benchmark = True"
      ],
      "metadata": {
        "colab": {
          "base_uri": "https://localhost:8080/"
        },
        "id": "A93BXQPmyFHR",
        "outputId": "0ee0f414-9eb7-45e0-e3db-7048330de667"
      },
      "id": "A93BXQPmyFHR",
      "execution_count": 5,
      "outputs": [
        {
          "output_type": "stream",
          "name": "stdout",
          "text": [
            "Using cpu device\n"
          ]
        }
      ]
    },
    {
      "cell_type": "code",
      "source": [
        "import torch\n",
        "\n",
        "# 创建一个一维张量\n",
        "x = torch.tensor([1, 2, 3, 4, 5])\n",
        "\n",
        "# 使用索引获取元素\n",
        "print(x[0])  # 输出：tensor(1)\n",
        "\n",
        "# 创建一个二维张量\n",
        "y = torch.tensor([[1, 2, 3], [4, 5, 6], [7, 8, 9]])\n",
        "y1 = torch.tensor([[1, 3, 3], [4, 7, 6], [7, 11, 9]])\n",
        "\n",
        "#c = - (1-torch.sqrt(torch.square(y[:,0]-2)+torch.square(y[:,1]-8)))\n",
        "c = torch.sqrt(torch.square(y[:,1]-2)+torch.square(y[:,2]-8))\n",
        "print(type(c))\n",
        "print(c)\n",
        "d = torch.maximum(torch.tensor(4),c)\n",
        "print(d)\n",
        "\n",
        "\n",
        "\n",
        "# 使用索引获取元素\n",
        "print(y[1, 2])  # 输出：tensor(6)\n",
        "# 获取张量中的一个元素，并转换为 Python 数值\n",
        "value = x[0].item()\n",
        "print(value)  # 输出：1\n"
      ],
      "metadata": {
        "colab": {
          "base_uri": "https://localhost:8080/"
        },
        "id": "yAvj-NVhIPPx",
        "outputId": "cfd423b8-eaa0-40a3-ae3c-901a70c8b4d4"
      },
      "id": "yAvj-NVhIPPx",
      "execution_count": 30,
      "outputs": [
        {
          "output_type": "stream",
          "name": "stdout",
          "text": [
            "tensor(1)\n",
            "<class 'torch.Tensor'>\n",
            "tensor([5.0000, 3.6056, 6.0828])\n",
            "tensor([5.0000, 4.0000, 6.0828])\n",
            "tensor(6)\n",
            "1\n"
          ]
        },
        {
          "output_type": "stream",
          "name": "stderr",
          "text": [
            "/usr/local/lib/python3.10/dist-packages/ipykernel/ipkernel.py:283: DeprecationWarning: `should_run_async` will not call `transform_cell` automatically in the future. Please pass the result to `transformed_cell` argument and any exception that happen during thetransform in `preprocessing_exc_tuple` in IPython 7.17 and above.\n",
            "  and should_run_async(code)\n"
          ]
        }
      ]
    },
    {
      "cell_type": "code",
      "source": [
        "class InitNet(nn.Module):\n",
        "    def __init__(self, nFeatures, nHidden1, nHidden21, nHidden22, nCls, mean, std, device, bn):\n",
        "      super().__init__()\n",
        "      self.nFeatures = nFeatures\n",
        "      self.nHidden1 = nHidden1\n",
        "      self.nHidden21 = nHidden21\n",
        "      self.nHidden22 = nHidden22\n",
        "      self.bn = bn\n",
        "      self.nCls = nCls\n",
        "      self.mean = torch.from_numpy(mean).to(device)\n",
        "      self.std = torch.from_numpy(std).to(device)\n",
        "      self.device = device\n",
        "      self.w1_reg1_l = 0\n",
        "      self.w1_reg1_2 = 10.31\n",
        "      self.w1_reg1_3 = 0#后续更改\n",
        "      self.w1_reg1_real = 0\n",
        "      # Normal BN/FC layers.\n",
        "      if bn:\n",
        "          self.bn1 = nn.BatchNorm1d(nHidden1)\n",
        "          self.bn21 = nn.BatchNorm1d(nHidden21)\n",
        "          self.bn22 = nn.BatchNorm1d(nHidden22)\n",
        "\n",
        "      self.fc1 = nn.Linear(nFeatures, nHidden1).double()\n",
        "      self.fc21 = nn.Linear(nHidden1, nHidden21).double()\n",
        "      self.fc22 = nn.Linear(nHidden1, nHidden22).double()\n",
        "\n",
        "      self.fc31 = nn.Linear(nHidden21, nCls).double() #产生reg1 对应的w1,w2\n",
        "      self.fc32 = nn.Linear(nHidden22, nCls).double() #产生reg2 对应的w1,w2\n",
        "\n",
        "    def forward(self, x, sgn):  #假定输入为narray数组,(10,4) 10是10个初始点，4是四个状态\n",
        "        nBatch = x.size(0)\n",
        "\n",
        "        # Normal FC network.\n",
        "        x = x.view(nBatch, -1)\n",
        "        x0 = x*self.std + self.mean\n",
        "        self.w1_reg1_3 =  - (1-torch.sqrt(torch.square(x0[:,0]-2)+torch.square(x0[:,1]-8)))\n",
        "        self.w1_reg1_real = torch.maximum(torch.tensor(self.w1_reg1_2),self.w1_reg1_3)\n",
        "        x = F.relu(self.fc1(x))\n",
        "        if self.bn:\n",
        "            x = self.bn1(x)\n",
        "\n",
        "        x21 = F.relu(self.fc21(x))\n",
        "        if self.bn:\n",
        "            x21 = self.bn21(x21)\n",
        "        x22 = F.relu(self.fc22(x))\n",
        "        if self.bn:\n",
        "            x22 = self.bn22(x22)\n",
        "\n",
        "        x31 = self.fc31(x21) # 输出为2维\n",
        "        x32 = self.fc32(x22)\n",
        "        #添加对w1，w2的约束\n",
        "        #数据在x0中\n",
        "\n",
        "        x31[0] = nn.softplus(x31[0])+self.w1_reg1_real # reg1 w1\n",
        "        #x31[1] = nn.softplus(x31[1]) reg1 w2\n",
        "        #x32[0] = nn.softplus(x32[1]) reg2 w1\n",
        "        #x32[1] = nn.softplus(x32[1]) reg2 w2\n",
        "        #x32 = 4*nn.Sigmoid()(x32)  # ensure CBF parameters are positive\n",
        "\n",
        "        return x31,x32\n"
      ],
      "metadata": {
        "id": "VASCqLs5zzHF"
      },
      "id": "VASCqLs5zzHF",
      "execution_count": 32,
      "outputs": []
    },
    {
      "cell_type": "code",
      "execution_count": null,
      "id": "1beb948c",
      "metadata": {
        "id": "1beb948c",
        "colab": {
          "base_uri": "https://localhost:8080/"
        },
        "outputId": "e5a4ba95-3c9b-4cfb-dfd5-684276f46369"
      },
      "outputs": [
        {
          "output_type": "stream",
          "name": "stderr",
          "text": [
            "/usr/local/lib/python3.10/dist-packages/ipykernel/ipkernel.py:283: DeprecationWarning: `should_run_async` will not call `transform_cell` automatically in the future. Please pass the result to `transformed_cell` argument and any exception that happen during thetransform in `preprocessing_exc_tuple` in IPython 7.17 and above.\n",
            "  and should_run_async(code)\n"
          ]
        }
      ],
      "source": [
        "class BarrierNet(nn.Module):\n",
        "    def __init__(self, nFeatures, nHidden1, nHidden21, nHidden22, nCls, device, bn): # 4 128 32 2 gpu device False\n",
        "        super().__init__()\n",
        "        self.nFeatures = nFeatures #状态维度 为4\n",
        "        self.nHidden1 = nHidden1 #128\n",
        "        self.nHidden21 = nHidden21 #32\n",
        "        self.nHidden22 = nHidden22 #32\n",
        "        self.bn = bn\n",
        "        self.nCls = nCls\n",
        "        self.device = device\n",
        "        self.obs_x = 40  #obstacle location\n",
        "        self.obs_y = 15\n",
        "        self.R = 6   #obstacle size\n",
        "        self.p1 = 0\n",
        "        self.p2 = 0\n",
        "\n",
        "        # Normal BN/FC layers.\n",
        "        if bn:\n",
        "            self.bn1 = nn.BatchNorm1d(nHidden1)\n",
        "            self.bn21 = nn.BatchNorm1d(nHidden21)\n",
        "            self.bn22 = nn.BatchNorm1d(nHidden22)\n",
        "            self.bn23 = nn.BatchNorm1d(nHidden22)\n",
        "            self.bn24 = nn.BatchNorm1d(nHidden22)\n",
        "            self.bn25 = nn.BatchNorm1d(nHidden22)\n",
        "\n",
        "\n",
        "        self.fc1 = nn.Linear(nFeatures, nHidden1).double()\n",
        "        self.fc21 = nn.Linear(nHidden1, nHidden21).double()\n",
        "        self.fc22 = nn.Linear(nHidden1, nHidden22).double()\n",
        "        self.fc23 = nn.Linear(nHidden1, nHidden22).double()\n",
        "        self.fc24 = nn.Linear(nHidden1, nHidden22).double()\n",
        "        self.fc25 = nn.Linear(nHidden1, nHidden22).double()\n",
        "        self.fc31 = nn.Linear(nHidden21, nCls).double() #F\n",
        "        self.fc32 = nn.Linear(nHidden22, nCls).double() #reg1 p1 p2\n",
        "        self.fc33 = nn.Linear(nHidden22, nCls).double() #reg2 p1 p2\n",
        "        self.fc34 = nn.Linear(nHidden22, nCls).double() #obs1 p1 p2\n",
        "        self.fc35 = nn.Linear(nHidden22, nCls).double() #obs2 p1 p2\n",
        "\n",
        "\n",
        "\n",
        "        # QP params.\n",
        "        # from previous layers\n",
        "\n",
        "    def forward(self, x, sgn):\n",
        "        nBatch = x.size(0)\n",
        "\n",
        "        # Normal FC network.\n",
        "        x = x.view(nBatch, -1)\n",
        "        x0 = x*self.std + self.mean\n",
        "        x = F.relu(self.fc1(x))\n",
        "        if self.bn:\n",
        "            x = self.bn1(x)\n",
        "\n",
        "        x21 = F.relu(self.fc21(x))\n",
        "        if self.bn:\n",
        "            x21 = self.bn21(x21)\n",
        "        x22 = F.relu(self.fc22(x))\n",
        "        x23 = F.relu(self.fc23(x))\n",
        "        x24 = F.relu(self.fc24(x))\n",
        "        x25 = F.relu(self.fc25(x))\n",
        "\n",
        "        if self.bn:\n",
        "            x22 = self.bn22(x22)\n",
        "            x23 = self.bn22(x23)\n",
        "            x24 = self.bn22(x24)\n",
        "            x25 = self.bn22(x25)\n",
        "\n",
        "\n",
        "\n",
        "        x31 = self.fc31(x21) # 输出为2维\n",
        "        x32 = self.fc32(x22)\n",
        "        x33 = self.fc32(x23)\n",
        "        x34 = self.fc32(x24)\n",
        "        x35 = self.fc32(x25)\n",
        "\n",
        "        x32 = 4*nn.Sigmoid()(x32)  # ensure CBF parameters are positive\n",
        "        x33 = 4*nn.Sigmoid()(x33)\n",
        "        x34 = 4*nn.Sigmoid()(x34)\n",
        "        x35 = 4*nn.Sigmoid()(x35)\n",
        "        # BarrierNet\n",
        "        x = self.dCBF(x0, x31, x32, sgn, nBatch)\n",
        "\n",
        "        return x\n",
        "\n",
        "    def dCBF(self, x0, x31, x32, sgn, nBatch):\n",
        "\n",
        "        Q = Variable(torch.eye(self.nCls))\n",
        "        Q = Q.unsqueeze(0).expand(nBatch, self.nCls, self.nCls).to(self.device)\n",
        "        px = x0[:,0]\n",
        "        py = x0[:,1]\n",
        "        theta = x0[:,2]\n",
        "        v = x0[:,3]\n",
        "        sin_theta = torch.sin(theta)\n",
        "        cos_theta = torch.cos(theta)\n",
        "\n",
        "        barrier = (px - self.obs_x)**2 + (py - self.obs_y)**2 - self.R**2\n",
        "        barrier_dot = 2*(px - self.obs_x)*v*cos_theta + 2*(py - self.obs_y)*v*sin_theta\n",
        "        Lf2b = 2*v**2\n",
        "        LgLfbu1 = torch.reshape(-2*(px - self.obs_x)*v*sin_theta + 2*(py - self.obs_y)*v*cos_theta, (nBatch, 1))\n",
        "        LgLfbu2 = torch.reshape(2*(px - self.obs_x)*cos_theta + 2*(py - self.obs_y)*sin_theta, (nBatch, 1))\n",
        "\n",
        "        G = torch.cat([-LgLfbu1, -LgLfbu2], dim=1)\n",
        "        G = torch.reshape(G, (nBatch, 1, self.nCls)).to(self.device)\n",
        "        h = (torch.reshape(Lf2b + (x32[:,0] + x32[:,1])*barrier_dot + (x32[:,0]*x32[:,1])*barrier, (nBatch, 1))).to(self.device) #x32：p1 p2\n",
        "        e = Variable(torch.Tensor()).to(self.device)\n",
        "\n",
        "        if self.training or sgn == 1:\n",
        "            x = QPFunction(verbose = 0)(Q.double(), x31.double(), G.double(), h.double(), e, e) #x31:F\n",
        "        else:\n",
        "            self.p1 = x32[0,0]\n",
        "            self.p2 = x32[0,1]\n",
        "            x = solver(Q[0].double(), x31[0].double(), G[0].double(), h[0].double())\n",
        "\n",
        "        return x"
      ]
    },
    {
      "cell_type": "code",
      "execution_count": null,
      "id": "09919a73",
      "metadata": {
        "colab": {
          "base_uri": "https://localhost:8080/"
        },
        "id": "09919a73",
        "outputId": "fd150f2d-ac20-4da3-d9e6-7e8ebe6f2409"
      },
      "outputs": [
        {
          "output_type": "stream",
          "name": "stderr",
          "text": [
            "/usr/local/lib/python3.10/dist-packages/ipykernel/ipkernel.py:283: DeprecationWarning: `should_run_async` will not call `transform_cell` automatically in the future. Please pass the result to `transformed_cell` argument and any exception that happen during thetransform in `preprocessing_exc_tuple` in IPython 7.17 and above.\n",
            "  and should_run_async(code)\n"
          ]
        }
      ],
      "source": [
        "class Agent:\n",
        "    def __init__(self, action_init):\n",
        "        self.actions = action_init\n",
        "\n",
        "    def choose_action(self, state):\n",
        "        # 在这里实现你的策略，例如随机选择一个动作\n",
        "        action = np.random.choice(self.actions, p=self.pi[state, :])\n",
        "        return action\n",
        "\n",
        "    def learn(self, state, action, reward, next_state):\n",
        "        # 在这里实现你的学习算法\n",
        "        pass"
      ]
    },
    {
      "cell_type": "code",
      "execution_count": null,
      "id": "0ca25e94",
      "metadata": {
        "id": "0ca25e94"
      },
      "outputs": [],
      "source": []
    }
  ],
  "metadata": {
    "kernelspec": {
      "display_name": "Python [conda env:Miniconda3]",
      "language": "python",
      "name": "conda-env-Miniconda3-py"
    },
    "language_info": {
      "codemirror_mode": {
        "name": "ipython",
        "version": 3
      },
      "file_extension": ".py",
      "mimetype": "text/x-python",
      "name": "python",
      "nbconvert_exporter": "python",
      "pygments_lexer": "ipython3",
      "version": "3.8.17"
    },
    "colab": {
      "provenance": [],
      "include_colab_link": true
    }
  },
  "nbformat": 4,
  "nbformat_minor": 5
}